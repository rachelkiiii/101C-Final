{
 "cells": [
  {
   "cell_type": "code",
   "execution_count": 18,
   "metadata": {},
   "outputs": [
    {
     "name": "stdout",
     "output_type": "stream",
     "text": [
      "airi angri bodi busi baggi crazi civi .\n",
      "air angry body busy baggy crazy civil .\n"
     ]
    }
   ],
   "source": [
    "import nltk\n",
    "\n",
    "from nltk.tag import pos_tag\n",
    "from nltk.tokenize import word_tokenize\n",
    "\n",
    "# PART 1: ADVERB TO ADJECTIVE \n",
    "\n",
    "# sample sentence\n",
    "sentence = \"airily angrily bodily busily baggily crazily civily.\"\n",
    "\n",
    "# tokenize the sentence and assign part-of-speech tags\n",
    "tokens = word_tokenize(sentence)\n",
    "tagged_tokens = pos_tag(tokens)\n",
    "\n",
    "# function to convert adverbs to adjectives\n",
    "def convert_adverbs_to_adjectives(tagged_tokens):\n",
    "    new_sentence = []\n",
    "    for word, tag in tagged_tokens:\n",
    "        if tag == 'RB':  # Checking if the word is an adverb\n",
    "            # Perform some simple conversions for demonstration purposes\n",
    "            if word.endswith('ly'):  # Check if the adverb ends with 'ly'\n",
    "                new_word = word[:-2]  # Remove 'ly' and add 'e' for demonstration\n",
    "                new_sentence.append(new_word)\n",
    "            else:\n",
    "                new_sentence.append(word)  # Keep the word as is if no specific rule applies\n",
    "        else:\n",
    "            new_sentence.append(word)  # Keep non-adverbs unchanged\n",
    "    return ' '.join(new_sentence)\n",
    "\n",
    "new_sentence = convert_adverbs_to_adjectives(tagged_tokens)\n",
    "print(new_sentence) \n",
    "\n",
    "\n",
    "\n",
    "# PART 2: SPELL CHECK \n",
    "\n",
    "from spellchecker import SpellChecker\n",
    "\n",
    "# initialize spellchecker\n",
    "spell = SpellChecker()\n",
    "\n",
    "# sample sentence\n",
    "sentence =  new_sentence \n",
    "\n",
    "# tokenize the sentence\n",
    "words = sentence.split()\n",
    "\n",
    "# find and correct misspelled words\n",
    "corrected_sentence = []\n",
    "for word in words:\n",
    "    corrected_word = spell.correction(word)\n",
    "    corrected_sentence.append(corrected_word)\n",
    "\n",
    "# join the corrected words to form the corrected sentence\n",
    "corrected_sentence = ' '.join(corrected_sentence)\n",
    "print(corrected_sentence)\n",
    "\n"
   ]
  }
 ],
 "metadata": {
  "kernelspec": {
   "display_name": "Python 3",
   "language": "python",
   "name": "python3"
  },
  "language_info": {
   "codemirror_mode": {
    "name": "ipython",
    "version": 3
   },
   "file_extension": ".py",
   "mimetype": "text/x-python",
   "name": "python",
   "nbconvert_exporter": "python",
   "pygments_lexer": "ipython3",
   "version": "3.11.3"
  }
 },
 "nbformat": 4,
 "nbformat_minor": 2
}
